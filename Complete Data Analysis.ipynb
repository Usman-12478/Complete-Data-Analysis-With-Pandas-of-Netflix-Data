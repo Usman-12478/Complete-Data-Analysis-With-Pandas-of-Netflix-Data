{
 "cells": [
  {
   "cell_type": "code",
   "execution_count": 1,
   "id": "e0a04c2c",
   "metadata": {
    "_cell_guid": "b1076dfc-b9ad-4769-8c92-a6c4dae69d19",
    "_uuid": "8f2839f25d086af736a60e9eeb907d3b93b6e0e5",
    "execution": {
     "iopub.execute_input": "2024-10-22T11:46:54.930157Z",
     "iopub.status.busy": "2024-10-22T11:46:54.929324Z",
     "iopub.status.idle": "2024-10-22T11:46:56.979867Z",
     "shell.execute_reply": "2024-10-22T11:46:56.978743Z"
    },
    "papermill": {
     "duration": 2.069868,
     "end_time": "2024-10-22T11:46:56.982418",
     "exception": false,
     "start_time": "2024-10-22T11:46:54.912550",
     "status": "completed"
    },
    "tags": []
   },
   "outputs": [],
   "source": [
    "import numpy as np\n",
    "import matplotlib.pyplot as plt\n",
    "import pandas as pd\n",
    "import seaborn as sns\n",
    "import warnings\n",
    "warnings.filterwarnings('ignore')"
   ]
  },
  {
   "cell_type": "markdown",
   "id": "9ffd579a",
   "metadata": {
    "papermill": {
     "duration": 0.013558,
     "end_time": "2024-10-22T11:46:57.010450",
     "exception": false,
     "start_time": "2024-10-22T11:46:56.996892",
     "status": "completed"
    },
    "tags": []
   },
   "source": [
    "# Loading The Dataset"
   ]
  },
  {
   "cell_type": "code",
   "execution_count": 2,
   "id": "f7526d1e",
   "metadata": {
    "execution": {
     "iopub.execute_input": "2024-10-22T11:46:57.038952Z",
     "iopub.status.busy": "2024-10-22T11:46:57.038459Z",
     "iopub.status.idle": "2024-10-22T11:46:57.183523Z",
     "shell.execute_reply": "2024-10-22T11:46:57.182627Z"
    },
    "papermill": {
     "duration": 0.162487,
     "end_time": "2024-10-22T11:46:57.186260",
     "exception": false,
     "start_time": "2024-10-22T11:46:57.023773",
     "status": "completed"
    },
    "tags": []
   },
   "outputs": [],
   "source": [
    "df = pd.read_csv('/kaggle/input/exploratory-data-analysis-on-netflix-data/netflix_titles_2021.csv')"
   ]
  },
  {
   "cell_type": "code",
   "execution_count": 3,
   "id": "23e180f0",
   "metadata": {
    "execution": {
     "iopub.execute_input": "2024-10-22T11:46:57.216461Z",
     "iopub.status.busy": "2024-10-22T11:46:57.216104Z",
     "iopub.status.idle": "2024-10-22T11:46:57.239236Z",
     "shell.execute_reply": "2024-10-22T11:46:57.238303Z"
    },
    "papermill": {
     "duration": 0.040592,
     "end_time": "2024-10-22T11:46:57.241223",
     "exception": false,
     "start_time": "2024-10-22T11:46:57.200631",
     "status": "completed"
    },
    "tags": []
   },
   "outputs": [
    {
     "data": {
      "text/html": [
       "<div>\n",
       "<style scoped>\n",
       "    .dataframe tbody tr th:only-of-type {\n",
       "        vertical-align: middle;\n",
       "    }\n",
       "\n",
       "    .dataframe tbody tr th {\n",
       "        vertical-align: top;\n",
       "    }\n",
       "\n",
       "    .dataframe thead th {\n",
       "        text-align: right;\n",
       "    }\n",
       "</style>\n",
       "<table border=\"1\" class=\"dataframe\">\n",
       "  <thead>\n",
       "    <tr style=\"text-align: right;\">\n",
       "      <th></th>\n",
       "      <th>show_id</th>\n",
       "      <th>type</th>\n",
       "      <th>title</th>\n",
       "      <th>director</th>\n",
       "      <th>cast</th>\n",
       "      <th>country</th>\n",
       "      <th>date_added</th>\n",
       "      <th>release_year</th>\n",
       "      <th>rating</th>\n",
       "      <th>duration</th>\n",
       "      <th>listed_in</th>\n",
       "      <th>description</th>\n",
       "    </tr>\n",
       "  </thead>\n",
       "  <tbody>\n",
       "    <tr>\n",
       "      <th>0</th>\n",
       "      <td>s1</td>\n",
       "      <td>Movie</td>\n",
       "      <td>Dick Johnson Is Dead</td>\n",
       "      <td>Kirsten Johnson</td>\n",
       "      <td>NaN</td>\n",
       "      <td>United States</td>\n",
       "      <td>September 25, 2021</td>\n",
       "      <td>2020</td>\n",
       "      <td>PG-13</td>\n",
       "      <td>90 min</td>\n",
       "      <td>Documentaries</td>\n",
       "      <td>As her father nears the end of his life, filmm...</td>\n",
       "    </tr>\n",
       "    <tr>\n",
       "      <th>1</th>\n",
       "      <td>s2</td>\n",
       "      <td>TV Show</td>\n",
       "      <td>Blood &amp; Water</td>\n",
       "      <td>NaN</td>\n",
       "      <td>Ama Qamata, Khosi Ngema, Gail Mabalane, Thaban...</td>\n",
       "      <td>South Africa</td>\n",
       "      <td>September 24, 2021</td>\n",
       "      <td>2021</td>\n",
       "      <td>TV-MA</td>\n",
       "      <td>2 Seasons</td>\n",
       "      <td>International TV Shows, TV Dramas, TV Mysteries</td>\n",
       "      <td>After crossing paths at a party, a Cape Town t...</td>\n",
       "    </tr>\n",
       "  </tbody>\n",
       "</table>\n",
       "</div>"
      ],
      "text/plain": [
       "  show_id     type                 title         director  \\\n",
       "0      s1    Movie  Dick Johnson Is Dead  Kirsten Johnson   \n",
       "1      s2  TV Show         Blood & Water              NaN   \n",
       "\n",
       "                                                cast        country  \\\n",
       "0                                                NaN  United States   \n",
       "1  Ama Qamata, Khosi Ngema, Gail Mabalane, Thaban...   South Africa   \n",
       "\n",
       "           date_added  release_year rating   duration  \\\n",
       "0  September 25, 2021          2020  PG-13     90 min   \n",
       "1  September 24, 2021          2021  TV-MA  2 Seasons   \n",
       "\n",
       "                                         listed_in  \\\n",
       "0                                    Documentaries   \n",
       "1  International TV Shows, TV Dramas, TV Mysteries   \n",
       "\n",
       "                                         description  \n",
       "0  As her father nears the end of his life, filmm...  \n",
       "1  After crossing paths at a party, a Cape Town t...  "
      ]
     },
     "execution_count": 3,
     "metadata": {},
     "output_type": "execute_result"
    }
   ],
   "source": [
    "df.head(2)"
   ]
  },
  {
   "cell_type": "markdown",
   "id": "a2961e80",
   "metadata": {
    "papermill": {
     "duration": 0.013638,
     "end_time": "2024-10-22T11:46:57.269883",
     "exception": false,
     "start_time": "2024-10-22T11:46:57.256245",
     "status": "completed"
    },
    "tags": []
   },
   "source": [
    "# Checking Type"
   ]
  },
  {
   "cell_type": "code",
   "execution_count": 4,
   "id": "11b262ea",
   "metadata": {
    "execution": {
     "iopub.execute_input": "2024-10-22T11:46:57.299543Z",
     "iopub.status.busy": "2024-10-22T11:46:57.298930Z",
     "iopub.status.idle": "2024-10-22T11:46:57.309205Z",
     "shell.execute_reply": "2024-10-22T11:46:57.308007Z"
    },
    "papermill": {
     "duration": 0.027658,
     "end_time": "2024-10-22T11:46:57.311351",
     "exception": false,
     "start_time": "2024-10-22T11:46:57.283693",
     "status": "completed"
    },
    "tags": []
   },
   "outputs": [
    {
     "data": {
      "text/plain": [
       "array(['Movie', 'TV Show'], dtype=object)"
      ]
     },
     "execution_count": 4,
     "metadata": {},
     "output_type": "execute_result"
    }
   ],
   "source": [
    "df['type'].unique()"
   ]
  },
  {
   "cell_type": "code",
   "execution_count": 5,
   "id": "b101bcf9",
   "metadata": {
    "execution": {
     "iopub.execute_input": "2024-10-22T11:46:57.341183Z",
     "iopub.status.busy": "2024-10-22T11:46:57.340866Z",
     "iopub.status.idle": "2024-10-22T11:46:57.357930Z",
     "shell.execute_reply": "2024-10-22T11:46:57.357040Z"
    },
    "papermill": {
     "duration": 0.034236,
     "end_time": "2024-10-22T11:46:57.360006",
     "exception": false,
     "start_time": "2024-10-22T11:46:57.325770",
     "status": "completed"
    },
    "tags": []
   },
   "outputs": [
    {
     "data": {
      "text/html": [
       "<div>\n",
       "<style scoped>\n",
       "    .dataframe tbody tr th:only-of-type {\n",
       "        vertical-align: middle;\n",
       "    }\n",
       "\n",
       "    .dataframe tbody tr th {\n",
       "        vertical-align: top;\n",
       "    }\n",
       "\n",
       "    .dataframe thead th {\n",
       "        text-align: right;\n",
       "    }\n",
       "</style>\n",
       "<table border=\"1\" class=\"dataframe\">\n",
       "  <thead>\n",
       "    <tr style=\"text-align: right;\">\n",
       "      <th></th>\n",
       "      <th>release_year</th>\n",
       "    </tr>\n",
       "  </thead>\n",
       "  <tbody>\n",
       "    <tr>\n",
       "      <th>count</th>\n",
       "      <td>8807.000000</td>\n",
       "    </tr>\n",
       "    <tr>\n",
       "      <th>mean</th>\n",
       "      <td>2014.180198</td>\n",
       "    </tr>\n",
       "    <tr>\n",
       "      <th>std</th>\n",
       "      <td>8.819312</td>\n",
       "    </tr>\n",
       "    <tr>\n",
       "      <th>min</th>\n",
       "      <td>1925.000000</td>\n",
       "    </tr>\n",
       "    <tr>\n",
       "      <th>25%</th>\n",
       "      <td>2013.000000</td>\n",
       "    </tr>\n",
       "    <tr>\n",
       "      <th>50%</th>\n",
       "      <td>2017.000000</td>\n",
       "    </tr>\n",
       "    <tr>\n",
       "      <th>75%</th>\n",
       "      <td>2019.000000</td>\n",
       "    </tr>\n",
       "    <tr>\n",
       "      <th>max</th>\n",
       "      <td>2021.000000</td>\n",
       "    </tr>\n",
       "  </tbody>\n",
       "</table>\n",
       "</div>"
      ],
      "text/plain": [
       "       release_year\n",
       "count   8807.000000\n",
       "mean    2014.180198\n",
       "std        8.819312\n",
       "min     1925.000000\n",
       "25%     2013.000000\n",
       "50%     2017.000000\n",
       "75%     2019.000000\n",
       "max     2021.000000"
      ]
     },
     "execution_count": 5,
     "metadata": {},
     "output_type": "execute_result"
    }
   ],
   "source": [
    "df.describe()"
   ]
  },
  {
   "cell_type": "markdown",
   "id": "2169697c",
   "metadata": {
    "papermill": {
     "duration": 0.014,
     "end_time": "2024-10-22T11:46:57.388768",
     "exception": false,
     "start_time": "2024-10-22T11:46:57.374768",
     "status": "completed"
    },
    "tags": []
   },
   "source": [
    "# Creating Bar Plot"
   ]
  },
  {
   "cell_type": "code",
   "execution_count": 6,
   "id": "35b254f9",
   "metadata": {
    "execution": {
     "iopub.execute_input": "2024-10-22T11:46:57.419605Z",
     "iopub.status.busy": "2024-10-22T11:46:57.419265Z",
     "iopub.status.idle": "2024-10-22T11:46:57.727893Z",
     "shell.execute_reply": "2024-10-22T11:46:57.727004Z"
    },
    "papermill": {
     "duration": 0.326971,
     "end_time": "2024-10-22T11:46:57.730125",
     "exception": false,
     "start_time": "2024-10-22T11:46:57.403154",
     "status": "completed"
    },
    "tags": []
   },
   "outputs": [
    {
     "data": {
      "image/png": "[encoded data removed]",
      "text/plain": [
       "<Figure size 640x480 with 1 Axes>"
      ]
     },
     "metadata": {},
     "output_type": "display_data"
    }
   ],
   "source": [
    "df['type'].value_counts().plot(kind = 'bar')\n",
    "plt.show()"
   ]
  },
  {
   "cell_type": "code",
   "execution_count": 7,
   "id": "432ae806",
   "metadata": {
    "execution": {
     "iopub.execute_input": "2024-10-22T11:46:57.760590Z",
     "iopub.status.busy": "2024-10-22T11:46:57.760297Z",
     "iopub.status.idle": "2024-10-22T11:46:57.770133Z",
     "shell.execute_reply": "2024-10-22T11:46:57.769252Z"
    },
    "papermill": {
     "duration": 0.027689,
     "end_time": "2024-10-22T11:46:57.772292",
     "exception": false,
     "start_time": "2024-10-22T11:46:57.744603",
     "status": "completed"
    },
    "tags": []
   },
   "outputs": [
    {
     "data": {
      "text/plain": [
       "listed_in\n",
       "Dramas, International Movies                          362\n",
       "Documentaries                                         359\n",
       "Stand-Up Comedy                                       334\n",
       "Comedies, Dramas, International Movies                274\n",
       "Dramas, Independent Movies, International Movies      252\n",
       "                                                     ... \n",
       "Kids' TV, TV Action & Adventure, TV Dramas              1\n",
       "TV Comedies, TV Dramas, TV Horror                       1\n",
       "Children & Family Movies, Comedies, LGBTQ Movies        1\n",
       "Kids' TV, Spanish-Language TV Shows, Teen TV Shows      1\n",
       "Cult Movies, Dramas, Thrillers                          1\n",
       "Name: count, Length: 514, dtype: int64"
      ]
     },
     "execution_count": 7,
     "metadata": {},
     "output_type": "execute_result"
    }
   ],
   "source": [
    "genre_counts = df['listed_in'].value_counts()\n",
    "genre_counts"
   ]
  },
  {
   "cell_type": "code",
   "execution_count": 8,
   "id": "3ef61cce",
   "metadata": {
    "execution": {
     "iopub.execute_input": "2024-10-22T11:46:57.803702Z",
     "iopub.status.busy": "2024-10-22T11:46:57.803157Z",
     "iopub.status.idle": "2024-10-22T11:46:57.808915Z",
     "shell.execute_reply": "2024-10-22T11:46:57.808040Z"
    },
    "papermill": {
     "duration": 0.024026,
     "end_time": "2024-10-22T11:46:57.811147",
     "exception": false,
     "start_time": "2024-10-22T11:46:57.787121",
     "status": "completed"
    },
    "tags": []
   },
   "outputs": [
    {
     "data": {
      "text/plain": [
       "(8807, 12)"
      ]
     },
     "execution_count": 8,
     "metadata": {},
     "output_type": "execute_result"
    }
   ],
   "source": [
    "df.shape"
   ]
  },
  {
   "cell_type": "markdown",
   "id": "7b8f7856",
   "metadata": {
    "papermill": {
     "duration": 0.014449,
     "end_time": "2024-10-22T11:46:57.840216",
     "exception": false,
     "start_time": "2024-10-22T11:46:57.825767",
     "status": "completed"
    },
    "tags": []
   },
   "source": [
    "# Checking None Values"
   ]
  },
  {
   "cell_type": "code",
   "execution_count": 9,
   "id": "f7b555a4",
   "metadata": {
    "execution": {
     "iopub.execute_input": "2024-10-22T11:46:57.871003Z",
     "iopub.status.busy": "2024-10-22T11:46:57.870278Z",
     "iopub.status.idle": "2024-10-22T11:46:57.888423Z",
     "shell.execute_reply": "2024-10-22T11:46:57.887517Z"
    },
    "papermill": {
     "duration": 0.035902,
     "end_time": "2024-10-22T11:46:57.890333",
     "exception": false,
     "start_time": "2024-10-22T11:46:57.854431",
     "status": "completed"
    },
    "tags": []
   },
   "outputs": [
    {
     "data": {
      "text/plain": [
       "show_id            0\n",
       "type               0\n",
       "title              0\n",
       "director        2634\n",
       "cast             825\n",
       "country          831\n",
       "date_added        10\n",
       "release_year       0\n",
       "rating             4\n",
       "duration           3\n",
       "listed_in          0\n",
       "description        0\n",
       "dtype: int64"
      ]
     },
     "execution_count": 9,
     "metadata": {},
     "output_type": "execute_result"
    }
   ],
   "source": [
    "df.isna().sum()"
   ]
  },
  {
   "cell_type": "markdown",
   "id": "36a7f627",
   "metadata": {
    "papermill": {
     "duration": 0.014807,
     "end_time": "2024-10-22T11:46:57.919969",
     "exception": false,
     "start_time": "2024-10-22T11:46:57.905162",
     "status": "completed"
    },
    "tags": []
   },
   "source": [
    "# Adjust Data types and Filling Missing Values:\n",
    "\n",
    "**The Following Do Not Require Any Fills:**\n",
    "\n",
    "* type\n",
    "* show_id\n",
    "* title\n",
    "* relears_year\n",
    "* show_id\n",
    "* listed_in\n",
    "* description\n",
    "\n",
    "**The Following Are the Missing Data:**\n",
    "\n",
    "* duration\n",
    "* rating \n",
    "* date_added\n",
    "* cast\n",
    "* country\n",
    "* director"
   ]
  },
  {
   "cell_type": "markdown",
   "id": "407ac3f0",
   "metadata": {
    "papermill": {
     "duration": 0.015732,
     "end_time": "2024-10-22T11:46:57.950305",
     "exception": false,
     "start_time": "2024-10-22T11:46:57.934573",
     "status": "completed"
    },
    "tags": []
   },
   "source": [
    "# Updating The date_added with int"
   ]
  },
  {
   "cell_type": "code",
   "execution_count": 10,
   "id": "6dcfd2a5",
   "metadata": {
    "execution": {
     "iopub.execute_input": "2024-10-22T11:46:57.982517Z",
     "iopub.status.busy": "2024-10-22T11:46:57.981659Z",
     "iopub.status.idle": "2024-10-22T11:46:57.990155Z",
     "shell.execute_reply": "2024-10-22T11:46:57.989162Z"
    },
    "papermill": {
     "duration": 0.027038,
     "end_time": "2024-10-22T11:46:57.992444",
     "exception": false,
     "start_time": "2024-10-22T11:46:57.965406",
     "status": "completed"
    },
    "tags": []
   },
   "outputs": [],
   "source": [
    "df['date_added'] = df['date_added'].str.strip()"
   ]
  },
  {
   "cell_type": "code",
   "execution_count": 11,
   "id": "f13ea3f7",
   "metadata": {
    "execution": {
     "iopub.execute_input": "2024-10-22T11:46:58.025131Z",
     "iopub.status.busy": "2024-10-22T11:46:58.024705Z",
     "iopub.status.idle": "2024-10-22T11:46:58.049182Z",
     "shell.execute_reply": "2024-10-22T11:46:58.048220Z"
    },
    "papermill": {
     "duration": 0.042773,
     "end_time": "2024-10-22T11:46:58.051227",
     "exception": false,
     "start_time": "2024-10-22T11:46:58.008454",
     "status": "completed"
    },
    "tags": []
   },
   "outputs": [],
   "source": [
    "df['date_added'] = pd.to_datetime(df['date_added'])"
   ]
  },
  {
   "cell_type": "code",
   "execution_count": 12,
   "id": "f55976a8",
   "metadata": {
    "execution": {
     "iopub.execute_input": "2024-10-22T11:46:58.082879Z",
     "iopub.status.busy": "2024-10-22T11:46:58.082055Z",
     "iopub.status.idle": "2024-10-22T11:46:58.096846Z",
     "shell.execute_reply": "2024-10-22T11:46:58.095934Z"
    },
    "papermill": {
     "duration": 0.033088,
     "end_time": "2024-10-22T11:46:58.099171",
     "exception": false,
     "start_time": "2024-10-22T11:46:58.066083",
     "status": "completed"
    },
    "tags": []
   },
   "outputs": [
    {
     "data": {
      "text/html": [
       "<div>\n",
       "<style scoped>\n",
       "    .dataframe tbody tr th:only-of-type {\n",
       "        vertical-align: middle;\n",
       "    }\n",
       "\n",
       "    .dataframe tbody tr th {\n",
       "        vertical-align: top;\n",
       "    }\n",
       "\n",
       "    .dataframe thead th {\n",
       "        text-align: right;\n",
       "    }\n",
       "</style>\n",
       "<table border=\"1\" class=\"dataframe\">\n",
       "  <thead>\n",
       "    <tr style=\"text-align: right;\">\n",
       "      <th></th>\n",
       "      <th>show_id</th>\n",
       "      <th>type</th>\n",
       "      <th>title</th>\n",
       "      <th>director</th>\n",
       "      <th>cast</th>\n",
       "      <th>country</th>\n",
       "      <th>date_added</th>\n",
       "      <th>release_year</th>\n",
       "      <th>rating</th>\n",
       "      <th>duration</th>\n",
       "      <th>listed_in</th>\n",
       "      <th>description</th>\n",
       "    </tr>\n",
       "  </thead>\n",
       "  <tbody>\n",
       "    <tr>\n",
       "      <th>0</th>\n",
       "      <td>s1</td>\n",
       "      <td>Movie</td>\n",
       "      <td>Dick Johnson Is Dead</td>\n",
       "      <td>Kirsten Johnson</td>\n",
       "      <td>NaN</td>\n",
       "      <td>United States</td>\n",
       "      <td>2021-09-25</td>\n",
       "      <td>2020</td>\n",
       "      <td>PG-13</td>\n",
       "      <td>90 min</td>\n",
       "      <td>Documentaries</td>\n",
       "      <td>As her father nears the end of his life, filmm...</td>\n",
       "    </tr>\n",
       "    <tr>\n",
       "      <th>1</th>\n",
       "      <td>s2</td>\n",
       "      <td>TV Show</td>\n",
       "      <td>Blood &amp; Water</td>\n",
       "      <td>NaN</td>\n",
       "      <td>Ama Qamata, Khosi Ngema, Gail Mabalane, Thaban...</td>\n",
       "      <td>South Africa</td>\n",
       "      <td>2021-09-24</td>\n",
       "      <td>2021</td>\n",
       "      <td>TV-MA</td>\n",
       "      <td>2 Seasons</td>\n",
       "      <td>International TV Shows, TV Dramas, TV Mysteries</td>\n",
       "      <td>After crossing paths at a party, a Cape Town t...</td>\n",
       "    </tr>\n",
       "  </tbody>\n",
       "</table>\n",
       "</div>"
      ],
      "text/plain": [
       "  show_id     type                 title         director  \\\n",
       "0      s1    Movie  Dick Johnson Is Dead  Kirsten Johnson   \n",
       "1      s2  TV Show         Blood & Water              NaN   \n",
       "\n",
       "                                                cast        country  \\\n",
       "0                                                NaN  United States   \n",
       "1  Ama Qamata, Khosi Ngema, Gail Mabalane, Thaban...   South Africa   \n",
       "\n",
       "  date_added  release_year rating   duration  \\\n",
       "0 2021-09-25          2020  PG-13     90 min   \n",
       "1 2021-09-24          2021  TV-MA  2 Seasons   \n",
       "\n",
       "                                         listed_in  \\\n",
       "0                                    Documentaries   \n",
       "1  International TV Shows, TV Dramas, TV Mysteries   \n",
       "\n",
       "                                         description  \n",
       "0  As her father nears the end of his life, filmm...  \n",
       "1  After crossing paths at a party, a Cape Town t...  "
      ]
     },
     "execution_count": 12,
     "metadata": {},
     "output_type": "execute_result"
    }
   ],
   "source": [
    "df.head(2)"
   ]
  },
  {
   "cell_type": "markdown",
   "id": "bcd225a3",
   "metadata": {
    "papermill": {
     "duration": 0.015183,
     "end_time": "2024-10-22T11:46:58.129818",
     "exception": false,
     "start_time": "2024-10-22T11:46:58.114635",
     "status": "completed"
    },
    "tags": []
   },
   "source": [
    "# Handling Missing Values"
   ]
  },
  {
   "cell_type": "code",
   "execution_count": 13,
   "id": "e819ebac",
   "metadata": {
    "execution": {
     "iopub.execute_input": "2024-10-22T11:46:58.162319Z",
     "iopub.status.busy": "2024-10-22T11:46:58.161982Z",
     "iopub.status.idle": "2024-10-22T11:46:58.175637Z",
     "shell.execute_reply": "2024-10-22T11:46:58.174857Z"
    },
    "papermill": {
     "duration": 0.032306,
     "end_time": "2024-10-22T11:46:58.177775",
     "exception": false,
     "start_time": "2024-10-22T11:46:58.145469",
     "status": "completed"
    },
    "tags": []
   },
   "outputs": [],
   "source": [
    "df.fillna({'rating':'Unavalable', 'cast':'Unavalable', 'country':'Unavalable', 'director':'Unavalable'}, inplace = True)\n"
   ]
  },
  {
   "cell_type": "code",
   "execution_count": 14,
   "id": "7654e08e",
   "metadata": {
    "execution": {
     "iopub.execute_input": "2024-10-22T11:46:58.212129Z",
     "iopub.status.busy": "2024-10-22T11:46:58.211736Z",
     "iopub.status.idle": "2024-10-22T11:46:58.230832Z",
     "shell.execute_reply": "2024-10-22T11:46:58.229837Z"
    },
    "papermill": {
     "duration": 0.038994,
     "end_time": "2024-10-22T11:46:58.233032",
     "exception": false,
     "start_time": "2024-10-22T11:46:58.194038",
     "status": "completed"
    },
    "tags": []
   },
   "outputs": [
    {
     "data": {
      "text/plain": [
       "show_id          0\n",
       "type             0\n",
       "title            0\n",
       "director         0\n",
       "cast             0\n",
       "country          0\n",
       "date_added      10\n",
       "release_year     0\n",
       "rating           0\n",
       "duration         3\n",
       "listed_in        0\n",
       "description      0\n",
       "dtype: int64"
      ]
     },
     "execution_count": 14,
     "metadata": {},
     "output_type": "execute_result"
    }
   ],
   "source": [
    "df.isna().sum()"
   ]
  },
  {
   "cell_type": "markdown",
   "id": "ddfe1770",
   "metadata": {
    "papermill": {
     "duration": 0.015564,
     "end_time": "2024-10-22T11:46:58.264953",
     "exception": false,
     "start_time": "2024-10-22T11:46:58.249389",
     "status": "completed"
    },
    "tags": []
   },
   "source": [
    "For Null in date_added, missing date_added is to be substitude with the most recent date from date_added. This is because the netflix has the tendency to add more content over time. "
   ]
  },
  {
   "cell_type": "code",
   "execution_count": 15,
   "id": "4f1b0089",
   "metadata": {
    "execution": {
     "iopub.execute_input": "2024-10-22T11:46:58.342610Z",
     "iopub.status.busy": "2024-10-22T11:46:58.341853Z",
     "iopub.status.idle": "2024-10-22T11:46:58.362501Z",
     "shell.execute_reply": "2024-10-22T11:46:58.361501Z"
    },
    "papermill": {
     "duration": 0.084171,
     "end_time": "2024-10-22T11:46:58.364672",
     "exception": false,
     "start_time": "2024-10-22T11:46:58.280501",
     "status": "completed"
    },
    "tags": []
   },
   "outputs": [
    {
     "data": {
      "text/html": [
       "<div>\n",
       "<style scoped>\n",
       "    .dataframe tbody tr th:only-of-type {\n",
       "        vertical-align: middle;\n",
       "    }\n",
       "\n",
       "    .dataframe tbody tr th {\n",
       "        vertical-align: top;\n",
       "    }\n",
       "\n",
       "    .dataframe thead th {\n",
       "        text-align: right;\n",
       "    }\n",
       "</style>\n",
       "<table border=\"1\" class=\"dataframe\">\n",
       "  <thead>\n",
       "    <tr style=\"text-align: right;\">\n",
       "      <th></th>\n",
       "      <th>show_id</th>\n",
       "      <th>type</th>\n",
       "      <th>title</th>\n",
       "      <th>director</th>\n",
       "      <th>cast</th>\n",
       "      <th>country</th>\n",
       "      <th>date_added</th>\n",
       "      <th>release_year</th>\n",
       "      <th>rating</th>\n",
       "      <th>duration</th>\n",
       "      <th>listed_in</th>\n",
       "      <th>description</th>\n",
       "    </tr>\n",
       "  </thead>\n",
       "  <tbody>\n",
       "    <tr>\n",
       "      <th>6066</th>\n",
       "      <td>s6067</td>\n",
       "      <td>TV Show</td>\n",
       "      <td>A Young Doctor's Notebook and Other Stories</td>\n",
       "      <td>Unavalable</td>\n",
       "      <td>Daniel Radcliffe, Jon Hamm, Adam Godley, Chris...</td>\n",
       "      <td>United Kingdom</td>\n",
       "      <td>NaT</td>\n",
       "      <td>2013</td>\n",
       "      <td>TV-MA</td>\n",
       "      <td>2 Seasons</td>\n",
       "      <td>British TV Shows, TV Comedies, TV Dramas</td>\n",
       "      <td>Set during the Russian Revolution, this comic ...</td>\n",
       "    </tr>\n",
       "    <tr>\n",
       "      <th>6174</th>\n",
       "      <td>s6175</td>\n",
       "      <td>TV Show</td>\n",
       "      <td>Anthony Bourdain: Parts Unknown</td>\n",
       "      <td>Unavalable</td>\n",
       "      <td>Anthony Bourdain</td>\n",
       "      <td>United States</td>\n",
       "      <td>NaT</td>\n",
       "      <td>2018</td>\n",
       "      <td>TV-PG</td>\n",
       "      <td>5 Seasons</td>\n",
       "      <td>Docuseries</td>\n",
       "      <td>This CNN original series has chef Anthony Bour...</td>\n",
       "    </tr>\n",
       "    <tr>\n",
       "      <th>6795</th>\n",
       "      <td>s6796</td>\n",
       "      <td>TV Show</td>\n",
       "      <td>Frasier</td>\n",
       "      <td>Unavalable</td>\n",
       "      <td>Kelsey Grammer, Jane Leeves, David Hyde Pierce...</td>\n",
       "      <td>United States</td>\n",
       "      <td>NaT</td>\n",
       "      <td>2003</td>\n",
       "      <td>TV-PG</td>\n",
       "      <td>11 Seasons</td>\n",
       "      <td>Classic &amp; Cult TV, TV Comedies</td>\n",
       "      <td>Frasier Crane is a snooty but lovable Seattle ...</td>\n",
       "    </tr>\n",
       "    <tr>\n",
       "      <th>6806</th>\n",
       "      <td>s6807</td>\n",
       "      <td>TV Show</td>\n",
       "      <td>Friends</td>\n",
       "      <td>Unavalable</td>\n",
       "      <td>Jennifer Aniston, Courteney Cox, Lisa Kudrow, ...</td>\n",
       "      <td>United States</td>\n",
       "      <td>NaT</td>\n",
       "      <td>2003</td>\n",
       "      <td>TV-14</td>\n",
       "      <td>10 Seasons</td>\n",
       "      <td>Classic &amp; Cult TV, TV Comedies</td>\n",
       "      <td>This hit sitcom follows the merry misadventure...</td>\n",
       "    </tr>\n",
       "    <tr>\n",
       "      <th>6901</th>\n",
       "      <td>s6902</td>\n",
       "      <td>TV Show</td>\n",
       "      <td>Gunslinger Girl</td>\n",
       "      <td>Unavalable</td>\n",
       "      <td>Yuuka Nanri, Kanako Mitsuhashi, Eri Sendai, Am...</td>\n",
       "      <td>Japan</td>\n",
       "      <td>NaT</td>\n",
       "      <td>2008</td>\n",
       "      <td>TV-14</td>\n",
       "      <td>2 Seasons</td>\n",
       "      <td>Anime Series, Crime TV Shows</td>\n",
       "      <td>On the surface, the Social Welfare Agency appe...</td>\n",
       "    </tr>\n",
       "    <tr>\n",
       "      <th>7196</th>\n",
       "      <td>s7197</td>\n",
       "      <td>TV Show</td>\n",
       "      <td>Kikoriki</td>\n",
       "      <td>Unavalable</td>\n",
       "      <td>Igor Dmitriev</td>\n",
       "      <td>Unavalable</td>\n",
       "      <td>NaT</td>\n",
       "      <td>2010</td>\n",
       "      <td>TV-Y</td>\n",
       "      <td>2 Seasons</td>\n",
       "      <td>Kids' TV</td>\n",
       "      <td>A wacky rabbit and his gang of animal pals hav...</td>\n",
       "    </tr>\n",
       "    <tr>\n",
       "      <th>7254</th>\n",
       "      <td>s7255</td>\n",
       "      <td>TV Show</td>\n",
       "      <td>La Familia P. Luche</td>\n",
       "      <td>Unavalable</td>\n",
       "      <td>Eugenio Derbez, Consuelo Duval, Luis Manuel Áv...</td>\n",
       "      <td>United States</td>\n",
       "      <td>NaT</td>\n",
       "      <td>2012</td>\n",
       "      <td>TV-14</td>\n",
       "      <td>3 Seasons</td>\n",
       "      <td>International TV Shows, Spanish-Language TV Sh...</td>\n",
       "      <td>This irreverent sitcom featues Ludovico, Feder...</td>\n",
       "    </tr>\n",
       "    <tr>\n",
       "      <th>7406</th>\n",
       "      <td>s7407</td>\n",
       "      <td>TV Show</td>\n",
       "      <td>Maron</td>\n",
       "      <td>Unavalable</td>\n",
       "      <td>Marc Maron, Judd Hirsch, Josh Brener, Nora Zeh...</td>\n",
       "      <td>United States</td>\n",
       "      <td>NaT</td>\n",
       "      <td>2016</td>\n",
       "      <td>TV-MA</td>\n",
       "      <td>4 Seasons</td>\n",
       "      <td>TV Comedies</td>\n",
       "      <td>Marc Maron stars as Marc Maron, who interviews...</td>\n",
       "    </tr>\n",
       "    <tr>\n",
       "      <th>7847</th>\n",
       "      <td>s7848</td>\n",
       "      <td>TV Show</td>\n",
       "      <td>Red vs. Blue</td>\n",
       "      <td>Unavalable</td>\n",
       "      <td>Burnie Burns, Jason Saldaña, Gustavo Sorola, G...</td>\n",
       "      <td>United States</td>\n",
       "      <td>NaT</td>\n",
       "      <td>2015</td>\n",
       "      <td>NR</td>\n",
       "      <td>13 Seasons</td>\n",
       "      <td>TV Action &amp; Adventure, TV Comedies, TV Sci-Fi ...</td>\n",
       "      <td>This parody of first-person shooter games, mil...</td>\n",
       "    </tr>\n",
       "    <tr>\n",
       "      <th>8182</th>\n",
       "      <td>s8183</td>\n",
       "      <td>TV Show</td>\n",
       "      <td>The Adventures of Figaro Pho</td>\n",
       "      <td>Unavalable</td>\n",
       "      <td>Luke Jurevicius, Craig Behenna, Charlotte Haml...</td>\n",
       "      <td>Australia</td>\n",
       "      <td>NaT</td>\n",
       "      <td>2015</td>\n",
       "      <td>TV-Y7</td>\n",
       "      <td>2 Seasons</td>\n",
       "      <td>Kids' TV, TV Comedies</td>\n",
       "      <td>Imagine your worst fears, then multiply them: ...</td>\n",
       "    </tr>\n",
       "  </tbody>\n",
       "</table>\n",
       "</div>"
      ],
      "text/plain": [
       "     show_id     type                                        title  \\\n",
       "6066   s6067  TV Show  A Young Doctor's Notebook and Other Stories   \n",
       "6174   s6175  TV Show              Anthony Bourdain: Parts Unknown   \n",
       "6795   s6796  TV Show                                      Frasier   \n",
       "6806   s6807  TV Show                                      Friends   \n",
       "6901   s6902  TV Show                              Gunslinger Girl   \n",
       "7196   s7197  TV Show                                     Kikoriki   \n",
       "7254   s7255  TV Show                          La Familia P. Luche   \n",
       "7406   s7407  TV Show                                        Maron   \n",
       "7847   s7848  TV Show                                 Red vs. Blue   \n",
       "8182   s8183  TV Show                 The Adventures of Figaro Pho   \n",
       "\n",
       "        director                                               cast  \\\n",
       "6066  Unavalable  Daniel Radcliffe, Jon Hamm, Adam Godley, Chris...   \n",
       "6174  Unavalable                                   Anthony Bourdain   \n",
       "6795  Unavalable  Kelsey Grammer, Jane Leeves, David Hyde Pierce...   \n",
       "6806  Unavalable  Jennifer Aniston, Courteney Cox, Lisa Kudrow, ...   \n",
       "6901  Unavalable  Yuuka Nanri, Kanako Mitsuhashi, Eri Sendai, Am...   \n",
       "7196  Unavalable                                      Igor Dmitriev   \n",
       "7254  Unavalable  Eugenio Derbez, Consuelo Duval, Luis Manuel Áv...   \n",
       "7406  Unavalable  Marc Maron, Judd Hirsch, Josh Brener, Nora Zeh...   \n",
       "7847  Unavalable  Burnie Burns, Jason Saldaña, Gustavo Sorola, G...   \n",
       "8182  Unavalable  Luke Jurevicius, Craig Behenna, Charlotte Haml...   \n",
       "\n",
       "             country date_added  release_year rating    duration  \\\n",
       "6066  United Kingdom        NaT          2013  TV-MA   2 Seasons   \n",
       "6174   United States        NaT          2018  TV-PG   5 Seasons   \n",
       "6795   United States        NaT          2003  TV-PG  11 Seasons   \n",
       "6806   United States        NaT          2003  TV-14  10 Seasons   \n",
       "6901           Japan        NaT          2008  TV-14   2 Seasons   \n",
       "7196      Unavalable        NaT          2010   TV-Y   2 Seasons   \n",
       "7254   United States        NaT          2012  TV-14   3 Seasons   \n",
       "7406   United States        NaT          2016  TV-MA   4 Seasons   \n",
       "7847   United States        NaT          2015     NR  13 Seasons   \n",
       "8182       Australia        NaT          2015  TV-Y7   2 Seasons   \n",
       "\n",
       "                                              listed_in  \\\n",
       "6066           British TV Shows, TV Comedies, TV Dramas   \n",
       "6174                                         Docuseries   \n",
       "6795                     Classic & Cult TV, TV Comedies   \n",
       "6806                     Classic & Cult TV, TV Comedies   \n",
       "6901                       Anime Series, Crime TV Shows   \n",
       "7196                                           Kids' TV   \n",
       "7254  International TV Shows, Spanish-Language TV Sh...   \n",
       "7406                                        TV Comedies   \n",
       "7847  TV Action & Adventure, TV Comedies, TV Sci-Fi ...   \n",
       "8182                              Kids' TV, TV Comedies   \n",
       "\n",
       "                                            description  \n",
       "6066  Set during the Russian Revolution, this comic ...  \n",
       "6174  This CNN original series has chef Anthony Bour...  \n",
       "6795  Frasier Crane is a snooty but lovable Seattle ...  \n",
       "6806  This hit sitcom follows the merry misadventure...  \n",
       "6901  On the surface, the Social Welfare Agency appe...  \n",
       "7196  A wacky rabbit and his gang of animal pals hav...  \n",
       "7254  This irreverent sitcom featues Ludovico, Feder...  \n",
       "7406  Marc Maron stars as Marc Maron, who interviews...  \n",
       "7847  This parody of first-person shooter games, mil...  \n",
       "8182  Imagine your worst fears, then multiply them: ...  "
      ]
     },
     "execution_count": 15,
     "metadata": {},
     "output_type": "execute_result"
    }
   ],
   "source": [
    "df[df.date_added.isnull()]"
   ]
  },
  {
   "cell_type": "code",
   "execution_count": 16,
   "id": "d1842f32",
   "metadata": {
    "execution": {
     "iopub.execute_input": "2024-10-22T11:46:58.399105Z",
     "iopub.status.busy": "2024-10-22T11:46:58.398287Z",
     "iopub.status.idle": "2024-10-22T11:46:58.404577Z",
     "shell.execute_reply": "2024-10-22T11:46:58.403622Z"
    },
    "papermill": {
     "duration": 0.025863,
     "end_time": "2024-10-22T11:46:58.406837",
     "exception": false,
     "start_time": "2024-10-22T11:46:58.380974",
     "status": "completed"
    },
    "tags": []
   },
   "outputs": [],
   "source": [
    "most_recent_data = df['date_added'].max()\n",
    "df.fillna({'date_added': most_recent_data}, inplace = True)"
   ]
  },
  {
   "cell_type": "code",
   "execution_count": 17,
   "id": "23809a92",
   "metadata": {
    "execution": {
     "iopub.execute_input": "2024-10-22T11:46:58.441326Z",
     "iopub.status.busy": "2024-10-22T11:46:58.440236Z",
     "iopub.status.idle": "2024-10-22T11:46:58.459690Z",
     "shell.execute_reply": "2024-10-22T11:46:58.458515Z"
    },
    "papermill": {
     "duration": 0.039613,
     "end_time": "2024-10-22T11:46:58.462206",
     "exception": false,
     "start_time": "2024-10-22T11:46:58.422593",
     "status": "completed"
    },
    "tags": []
   },
   "outputs": [
    {
     "data": {
      "text/html": [
       "<div>\n",
       "<style scoped>\n",
       "    .dataframe tbody tr th:only-of-type {\n",
       "        vertical-align: middle;\n",
       "    }\n",
       "\n",
       "    .dataframe tbody tr th {\n",
       "        vertical-align: top;\n",
       "    }\n",
       "\n",
       "    .dataframe thead th {\n",
       "        text-align: right;\n",
       "    }\n",
       "</style>\n",
       "<table border=\"1\" class=\"dataframe\">\n",
       "  <thead>\n",
       "    <tr style=\"text-align: right;\">\n",
       "      <th></th>\n",
       "      <th>show_id</th>\n",
       "      <th>type</th>\n",
       "      <th>title</th>\n",
       "      <th>director</th>\n",
       "      <th>cast</th>\n",
       "      <th>country</th>\n",
       "      <th>date_added</th>\n",
       "      <th>release_year</th>\n",
       "      <th>rating</th>\n",
       "      <th>duration</th>\n",
       "      <th>listed_in</th>\n",
       "      <th>description</th>\n",
       "    </tr>\n",
       "  </thead>\n",
       "  <tbody>\n",
       "    <tr>\n",
       "      <th>0</th>\n",
       "      <td>s1</td>\n",
       "      <td>Movie</td>\n",
       "      <td>Dick Johnson Is Dead</td>\n",
       "      <td>Kirsten Johnson</td>\n",
       "      <td>Unavalable</td>\n",
       "      <td>United States</td>\n",
       "      <td>2021-09-25</td>\n",
       "      <td>2020</td>\n",
       "      <td>PG-13</td>\n",
       "      <td>90 min</td>\n",
       "      <td>Documentaries</td>\n",
       "      <td>As her father nears the end of his life, filmm...</td>\n",
       "    </tr>\n",
       "    <tr>\n",
       "      <th>1</th>\n",
       "      <td>s2</td>\n",
       "      <td>TV Show</td>\n",
       "      <td>Blood &amp; Water</td>\n",
       "      <td>Unavalable</td>\n",
       "      <td>Ama Qamata, Khosi Ngema, Gail Mabalane, Thaban...</td>\n",
       "      <td>South Africa</td>\n",
       "      <td>2021-09-24</td>\n",
       "      <td>2021</td>\n",
       "      <td>TV-MA</td>\n",
       "      <td>2 Seasons</td>\n",
       "      <td>International TV Shows, TV Dramas, TV Mysteries</td>\n",
       "      <td>After crossing paths at a party, a Cape Town t...</td>\n",
       "    </tr>\n",
       "  </tbody>\n",
       "</table>\n",
       "</div>"
      ],
      "text/plain": [
       "  show_id     type                 title         director  \\\n",
       "0      s1    Movie  Dick Johnson Is Dead  Kirsten Johnson   \n",
       "1      s2  TV Show         Blood & Water       Unavalable   \n",
       "\n",
       "                                                cast        country  \\\n",
       "0                                         Unavalable  United States   \n",
       "1  Ama Qamata, Khosi Ngema, Gail Mabalane, Thaban...   South Africa   \n",
       "\n",
       "  date_added  release_year rating   duration  \\\n",
       "0 2021-09-25          2020  PG-13     90 min   \n",
       "1 2021-09-24          2021  TV-MA  2 Seasons   \n",
       "\n",
       "                                         listed_in  \\\n",
       "0                                    Documentaries   \n",
       "1  International TV Shows, TV Dramas, TV Mysteries   \n",
       "\n",
       "                                         description  \n",
       "0  As her father nears the end of his life, filmm...  \n",
       "1  After crossing paths at a party, a Cape Town t...  "
      ]
     },
     "execution_count": 17,
     "metadata": {},
     "output_type": "execute_result"
    }
   ],
   "source": [
    "df.head(2)"
   ]
  },
  {
   "cell_type": "code",
   "execution_count": 18,
   "id": "bbb19045",
   "metadata": {
    "execution": {
     "iopub.execute_input": "2024-10-22T11:46:58.506179Z",
     "iopub.status.busy": "2024-10-22T11:46:58.505759Z",
     "iopub.status.idle": "2024-10-22T11:46:58.523323Z",
     "shell.execute_reply": "2024-10-22T11:46:58.522463Z"
    },
    "papermill": {
     "duration": 0.041976,
     "end_time": "2024-10-22T11:46:58.525548",
     "exception": false,
     "start_time": "2024-10-22T11:46:58.483572",
     "status": "completed"
    },
    "tags": []
   },
   "outputs": [
    {
     "data": {
      "text/plain": [
       "show_id         0\n",
       "type            0\n",
       "title           0\n",
       "director        0\n",
       "cast            0\n",
       "country         0\n",
       "date_added      0\n",
       "release_year    0\n",
       "rating          0\n",
       "duration        3\n",
       "listed_in       0\n",
       "description     0\n",
       "dtype: int64"
      ]
     },
     "execution_count": 18,
     "metadata": {},
     "output_type": "execute_result"
    }
   ],
   "source": [
    "df.isna().sum()"
   ]
  },
  {
   "cell_type": "code",
   "execution_count": 19,
   "id": "2fffdb72",
   "metadata": {
    "execution": {
     "iopub.execute_input": "2024-10-22T11:46:58.561209Z",
     "iopub.status.busy": "2024-10-22T11:46:58.560841Z",
     "iopub.status.idle": "2024-10-22T11:46:58.577812Z",
     "shell.execute_reply": "2024-10-22T11:46:58.576872Z"
    },
    "papermill": {
     "duration": 0.038026,
     "end_time": "2024-10-22T11:46:58.580209",
     "exception": false,
     "start_time": "2024-10-22T11:46:58.542183",
     "status": "completed"
    },
    "tags": []
   },
   "outputs": [
    {
     "data": {
      "text/html": [
       "<div>\n",
       "<style scoped>\n",
       "    .dataframe tbody tr th:only-of-type {\n",
       "        vertical-align: middle;\n",
       "    }\n",
       "\n",
       "    .dataframe tbody tr th {\n",
       "        vertical-align: top;\n",
       "    }\n",
       "\n",
       "    .dataframe thead th {\n",
       "        text-align: right;\n",
       "    }\n",
       "</style>\n",
       "<table border=\"1\" class=\"dataframe\">\n",
       "  <thead>\n",
       "    <tr style=\"text-align: right;\">\n",
       "      <th></th>\n",
       "      <th>show_id</th>\n",
       "      <th>type</th>\n",
       "      <th>title</th>\n",
       "      <th>director</th>\n",
       "      <th>cast</th>\n",
       "      <th>country</th>\n",
       "      <th>date_added</th>\n",
       "      <th>release_year</th>\n",
       "      <th>rating</th>\n",
       "      <th>duration</th>\n",
       "      <th>listed_in</th>\n",
       "      <th>description</th>\n",
       "    </tr>\n",
       "  </thead>\n",
       "  <tbody>\n",
       "    <tr>\n",
       "      <th>5541</th>\n",
       "      <td>s5542</td>\n",
       "      <td>Movie</td>\n",
       "      <td>Louis C.K. 2017</td>\n",
       "      <td>Louis C.K.</td>\n",
       "      <td>Louis C.K.</td>\n",
       "      <td>United States</td>\n",
       "      <td>2017-04-04</td>\n",
       "      <td>2017</td>\n",
       "      <td>74 min</td>\n",
       "      <td>NaN</td>\n",
       "      <td>Movies</td>\n",
       "      <td>Louis C.K. muses on religion, eternal love, gi...</td>\n",
       "    </tr>\n",
       "    <tr>\n",
       "      <th>5794</th>\n",
       "      <td>s5795</td>\n",
       "      <td>Movie</td>\n",
       "      <td>Louis C.K.: Hilarious</td>\n",
       "      <td>Louis C.K.</td>\n",
       "      <td>Louis C.K.</td>\n",
       "      <td>United States</td>\n",
       "      <td>2016-09-16</td>\n",
       "      <td>2010</td>\n",
       "      <td>84 min</td>\n",
       "      <td>NaN</td>\n",
       "      <td>Movies</td>\n",
       "      <td>Emmy-winning comedy writer Louis C.K. brings h...</td>\n",
       "    </tr>\n",
       "    <tr>\n",
       "      <th>5813</th>\n",
       "      <td>s5814</td>\n",
       "      <td>Movie</td>\n",
       "      <td>Louis C.K.: Live at the Comedy Store</td>\n",
       "      <td>Louis C.K.</td>\n",
       "      <td>Louis C.K.</td>\n",
       "      <td>United States</td>\n",
       "      <td>2016-08-15</td>\n",
       "      <td>2015</td>\n",
       "      <td>66 min</td>\n",
       "      <td>NaN</td>\n",
       "      <td>Movies</td>\n",
       "      <td>The comic puts his trademark hilarious/thought...</td>\n",
       "    </tr>\n",
       "  </tbody>\n",
       "</table>\n",
       "</div>"
      ],
      "text/plain": [
       "     show_id   type                                 title    director  \\\n",
       "5541   s5542  Movie                       Louis C.K. 2017  Louis C.K.   \n",
       "5794   s5795  Movie                 Louis C.K.: Hilarious  Louis C.K.   \n",
       "5813   s5814  Movie  Louis C.K.: Live at the Comedy Store  Louis C.K.   \n",
       "\n",
       "            cast        country date_added  release_year  rating duration  \\\n",
       "5541  Louis C.K.  United States 2017-04-04          2017  74 min      NaN   \n",
       "5794  Louis C.K.  United States 2016-09-16          2010  84 min      NaN   \n",
       "5813  Louis C.K.  United States 2016-08-15          2015  66 min      NaN   \n",
       "\n",
       "     listed_in                                        description  \n",
       "5541    Movies  Louis C.K. muses on religion, eternal love, gi...  \n",
       "5794    Movies  Emmy-winning comedy writer Louis C.K. brings h...  \n",
       "5813    Movies  The comic puts his trademark hilarious/thought...  "
      ]
     },
     "execution_count": 19,
     "metadata": {},
     "output_type": "execute_result"
    }
   ],
   "source": [
    "df[df.duration.isnull()]"
   ]
  },
  {
   "cell_type": "markdown",
   "id": "3e082f3f",
   "metadata": {
    "papermill": {
     "duration": 0.023044,
     "end_time": "2024-10-22T11:46:58.625102",
     "exception": false,
     "start_time": "2024-10-22T11:46:58.602058",
     "status": "completed"
    },
    "tags": []
   },
   "source": [
    "# Additional Data Cleaning\n",
    "**Daurations data Input Error:**\n",
    "\n",
    "The missing durations are all movies by Louis C.K. Normally, we would likely fill the duration of movies from the table. In this case it appears that the actual duration was input into the rating column, so one solution is to move the rating data into the duration and make the rating information 'Unavailable' like the other nulls."
   ]
  },
  {
   "cell_type": "code",
   "execution_count": 20,
   "id": "69bc589b",
   "metadata": {
    "execution": {
     "iopub.execute_input": "2024-10-22T11:46:58.676840Z",
     "iopub.status.busy": "2024-10-22T11:46:58.676227Z",
     "iopub.status.idle": "2024-10-22T11:46:58.703581Z",
     "shell.execute_reply": "2024-10-22T11:46:58.701660Z"
    },
    "papermill": {
     "duration": 0.056871,
     "end_time": "2024-10-22T11:46:58.706047",
     "exception": false,
     "start_time": "2024-10-22T11:46:58.649176",
     "status": "completed"
    },
    "tags": []
   },
   "outputs": [
    {
     "data": {
      "text/html": [
       "<div>\n",
       "<style scoped>\n",
       "    .dataframe tbody tr th:only-of-type {\n",
       "        vertical-align: middle;\n",
       "    }\n",
       "\n",
       "    .dataframe tbody tr th {\n",
       "        vertical-align: top;\n",
       "    }\n",
       "\n",
       "    .dataframe thead th {\n",
       "        text-align: right;\n",
       "    }\n",
       "</style>\n",
       "<table border=\"1\" class=\"dataframe\">\n",
       "  <thead>\n",
       "    <tr style=\"text-align: right;\">\n",
       "      <th></th>\n",
       "      <th>show_id</th>\n",
       "      <th>type</th>\n",
       "      <th>title</th>\n",
       "      <th>director</th>\n",
       "      <th>cast</th>\n",
       "      <th>country</th>\n",
       "      <th>date_added</th>\n",
       "      <th>release_year</th>\n",
       "      <th>rating</th>\n",
       "      <th>duration</th>\n",
       "      <th>listed_in</th>\n",
       "      <th>description</th>\n",
       "    </tr>\n",
       "  </thead>\n",
       "  <tbody>\n",
       "    <tr>\n",
       "      <th>5541</th>\n",
       "      <td>s5542</td>\n",
       "      <td>Movie</td>\n",
       "      <td>Louis C.K. 2017</td>\n",
       "      <td>Louis C.K.</td>\n",
       "      <td>Louis C.K.</td>\n",
       "      <td>United States</td>\n",
       "      <td>2017-04-04</td>\n",
       "      <td>2017</td>\n",
       "      <td>74 min</td>\n",
       "      <td>NaN</td>\n",
       "      <td>Movies</td>\n",
       "      <td>Louis C.K. muses on religion, eternal love, gi...</td>\n",
       "    </tr>\n",
       "    <tr>\n",
       "      <th>5794</th>\n",
       "      <td>s5795</td>\n",
       "      <td>Movie</td>\n",
       "      <td>Louis C.K.: Hilarious</td>\n",
       "      <td>Louis C.K.</td>\n",
       "      <td>Louis C.K.</td>\n",
       "      <td>United States</td>\n",
       "      <td>2016-09-16</td>\n",
       "      <td>2010</td>\n",
       "      <td>84 min</td>\n",
       "      <td>NaN</td>\n",
       "      <td>Movies</td>\n",
       "      <td>Emmy-winning comedy writer Louis C.K. brings h...</td>\n",
       "    </tr>\n",
       "    <tr>\n",
       "      <th>5813</th>\n",
       "      <td>s5814</td>\n",
       "      <td>Movie</td>\n",
       "      <td>Louis C.K.: Live at the Comedy Store</td>\n",
       "      <td>Louis C.K.</td>\n",
       "      <td>Louis C.K.</td>\n",
       "      <td>United States</td>\n",
       "      <td>2016-08-15</td>\n",
       "      <td>2015</td>\n",
       "      <td>66 min</td>\n",
       "      <td>NaN</td>\n",
       "      <td>Movies</td>\n",
       "      <td>The comic puts his trademark hilarious/thought...</td>\n",
       "    </tr>\n",
       "  </tbody>\n",
       "</table>\n",
       "</div>"
      ],
      "text/plain": [
       "     show_id   type                                 title    director  \\\n",
       "5541   s5542  Movie                       Louis C.K. 2017  Louis C.K.   \n",
       "5794   s5795  Movie                 Louis C.K.: Hilarious  Louis C.K.   \n",
       "5813   s5814  Movie  Louis C.K.: Live at the Comedy Store  Louis C.K.   \n",
       "\n",
       "            cast        country date_added  release_year  rating duration  \\\n",
       "5541  Louis C.K.  United States 2017-04-04          2017  74 min      NaN   \n",
       "5794  Louis C.K.  United States 2016-09-16          2010  84 min      NaN   \n",
       "5813  Louis C.K.  United States 2016-08-15          2015  66 min      NaN   \n",
       "\n",
       "     listed_in                                        description  \n",
       "5541    Movies  Louis C.K. muses on religion, eternal love, gi...  \n",
       "5794    Movies  Emmy-winning comedy writer Louis C.K. brings h...  \n",
       "5813    Movies  The comic puts his trademark hilarious/thought...  "
      ]
     },
     "execution_count": 20,
     "metadata": {},
     "output_type": "execute_result"
    }
   ],
   "source": [
    "df[df.duration.isnull()]"
   ]
  },
  {
   "cell_type": "markdown",
   "id": "2d61070c",
   "metadata": {
    "papermill": {
     "duration": 0.016327,
     "end_time": "2024-10-22T11:46:58.740268",
     "exception": false,
     "start_time": "2024-10-22T11:46:58.723941",
     "status": "completed"
    },
    "tags": []
   },
   "source": [
    "In the **Above Code** you can see there is **NaN in the duration** column and the **time/min are in the rating column** it shouldn't be there, so what am gonna do am gonna **shift the rating values into the duration column**, and in the **rating column we will put Unavailable**"
   ]
  },
  {
   "cell_type": "markdown",
   "id": "6821e4f9",
   "metadata": {
    "papermill": {
     "duration": 0.019761,
     "end_time": "2024-10-22T11:46:58.777000",
     "exception": false,
     "start_time": "2024-10-22T11:46:58.757239",
     "status": "completed"
    },
    "tags": []
   },
   "source": [
    "**We have to make sure that there is no content with the same director to avoid accidental overwriting**"
   ]
  },
  {
   "cell_type": "code",
   "execution_count": 21,
   "id": "62caf347",
   "metadata": {
    "execution": {
     "iopub.execute_input": "2024-10-22T11:46:58.818080Z",
     "iopub.status.busy": "2024-10-22T11:46:58.817344Z",
     "iopub.status.idle": "2024-10-22T11:46:58.837941Z",
     "shell.execute_reply": "2024-10-22T11:46:58.836644Z"
    },
    "papermill": {
     "duration": 0.042953,
     "end_time": "2024-10-22T11:46:58.841278",
     "exception": false,
     "start_time": "2024-10-22T11:46:58.798325",
     "status": "completed"
    },
    "tags": []
   },
   "outputs": [
    {
     "data": {
      "text/html": [
       "<div>\n",
       "<style scoped>\n",
       "    .dataframe tbody tr th:only-of-type {\n",
       "        vertical-align: middle;\n",
       "    }\n",
       "\n",
       "    .dataframe tbody tr th {\n",
       "        vertical-align: top;\n",
       "    }\n",
       "\n",
       "    .dataframe thead th {\n",
       "        text-align: right;\n",
       "    }\n",
       "</style>\n",
       "<table border=\"1\" class=\"dataframe\">\n",
       "  <thead>\n",
       "    <tr style=\"text-align: right;\">\n",
       "      <th></th>\n",
       "      <th>show_id</th>\n",
       "      <th>type</th>\n",
       "      <th>title</th>\n",
       "      <th>director</th>\n",
       "      <th>cast</th>\n",
       "      <th>country</th>\n",
       "      <th>date_added</th>\n",
       "      <th>release_year</th>\n",
       "      <th>rating</th>\n",
       "      <th>duration</th>\n",
       "      <th>listed_in</th>\n",
       "      <th>description</th>\n",
       "    </tr>\n",
       "  </thead>\n",
       "  <tbody>\n",
       "    <tr>\n",
       "      <th>5541</th>\n",
       "      <td>s5542</td>\n",
       "      <td>Movie</td>\n",
       "      <td>Louis C.K. 2017</td>\n",
       "      <td>Louis C.K.</td>\n",
       "      <td>Louis C.K.</td>\n",
       "      <td>United States</td>\n",
       "      <td>2017-04-04</td>\n",
       "      <td>2017</td>\n",
       "      <td>74 min</td>\n",
       "      <td>NaN</td>\n",
       "      <td>Movies</td>\n",
       "      <td>Louis C.K. muses on religion, eternal love, gi...</td>\n",
       "    </tr>\n",
       "    <tr>\n",
       "      <th>5794</th>\n",
       "      <td>s5795</td>\n",
       "      <td>Movie</td>\n",
       "      <td>Louis C.K.: Hilarious</td>\n",
       "      <td>Louis C.K.</td>\n",
       "      <td>Louis C.K.</td>\n",
       "      <td>United States</td>\n",
       "      <td>2016-09-16</td>\n",
       "      <td>2010</td>\n",
       "      <td>84 min</td>\n",
       "      <td>NaN</td>\n",
       "      <td>Movies</td>\n",
       "      <td>Emmy-winning comedy writer Louis C.K. brings h...</td>\n",
       "    </tr>\n",
       "    <tr>\n",
       "      <th>5813</th>\n",
       "      <td>s5814</td>\n",
       "      <td>Movie</td>\n",
       "      <td>Louis C.K.: Live at the Comedy Store</td>\n",
       "      <td>Louis C.K.</td>\n",
       "      <td>Louis C.K.</td>\n",
       "      <td>United States</td>\n",
       "      <td>2016-08-15</td>\n",
       "      <td>2015</td>\n",
       "      <td>66 min</td>\n",
       "      <td>NaN</td>\n",
       "      <td>Movies</td>\n",
       "      <td>The comic puts his trademark hilarious/thought...</td>\n",
       "    </tr>\n",
       "  </tbody>\n",
       "</table>\n",
       "</div>"
      ],
      "text/plain": [
       "     show_id   type                                 title    director  \\\n",
       "5541   s5542  Movie                       Louis C.K. 2017  Louis C.K.   \n",
       "5794   s5795  Movie                 Louis C.K.: Hilarious  Louis C.K.   \n",
       "5813   s5814  Movie  Louis C.K.: Live at the Comedy Store  Louis C.K.   \n",
       "\n",
       "            cast        country date_added  release_year  rating duration  \\\n",
       "5541  Louis C.K.  United States 2017-04-04          2017  74 min      NaN   \n",
       "5794  Louis C.K.  United States 2016-09-16          2010  84 min      NaN   \n",
       "5813  Louis C.K.  United States 2016-08-15          2015  66 min      NaN   \n",
       "\n",
       "     listed_in                                        description  \n",
       "5541    Movies  Louis C.K. muses on religion, eternal love, gi...  \n",
       "5794    Movies  Emmy-winning comedy writer Louis C.K. brings h...  \n",
       "5813    Movies  The comic puts his trademark hilarious/thought...  "
      ]
     },
     "execution_count": 21,
     "metadata": {},
     "output_type": "execute_result"
    }
   ],
   "source": [
    "df[df.duration.isnull()]"
   ]
  },
  {
   "cell_type": "code",
   "execution_count": 22,
   "id": "382a7558",
   "metadata": {
    "execution": {
     "iopub.execute_input": "2024-10-22T11:46:58.879161Z",
     "iopub.status.busy": "2024-10-22T11:46:58.878303Z",
     "iopub.status.idle": "2024-10-22T11:46:58.887467Z",
     "shell.execute_reply": "2024-10-22T11:46:58.886509Z"
    },
    "papermill": {
     "duration": 0.030205,
     "end_time": "2024-10-22T11:46:58.889555",
     "exception": false,
     "start_time": "2024-10-22T11:46:58.859350",
     "status": "completed"
    },
    "tags": []
   },
   "outputs": [
    {
     "data": {
      "text/plain": [
       "type\n",
       "Movie      6131\n",
       "TV Show    2676\n",
       "Name: count, dtype: int64"
      ]
     },
     "execution_count": 22,
     "metadata": {},
     "output_type": "execute_result"
    }
   ],
   "source": [
    "df.type.value_counts()"
   ]
  },
  {
   "cell_type": "markdown",
   "id": "102ede16",
   "metadata": {
    "papermill": {
     "duration": 0.017724,
     "end_time": "2024-10-22T11:46:58.924833",
     "exception": false,
     "start_time": "2024-10-22T11:46:58.907109",
     "status": "completed"
    },
    "tags": []
   },
   "source": [
    "# Count VS Type Of Show"
   ]
  },
  {
   "cell_type": "code",
   "execution_count": 23,
   "id": "34f9b031",
   "metadata": {
    "execution": {
     "iopub.execute_input": "2024-10-22T11:46:58.961670Z",
     "iopub.status.busy": "2024-10-22T11:46:58.961042Z",
     "iopub.status.idle": "2024-10-22T11:46:59.198565Z",
     "shell.execute_reply": "2024-10-22T11:46:59.197451Z"
    },
    "papermill": {
     "duration": 0.258815,
     "end_time": "2024-10-22T11:46:59.201113",
     "exception": false,
     "start_time": "2024-10-22T11:46:58.942298",
     "status": "completed"
    },
    "tags": []
   },
   "outputs": [
    {
     "data": {
      "image/png": "[encoded data removed]",
      "text/plain": [
       "<Figure size 640x480 with 1 Axes>"
      ]
     },
     "metadata": {},
     "output_type": "display_data"
    }
   ],
   "source": [
    "sns.countplot(x = 'type', data = df)\n",
    "plt.title('Count vs Type of Show')\n",
    "plt.show()"
   ]
  },
  {
   "cell_type": "code",
   "execution_count": 24,
   "id": "f771b443",
   "metadata": {
    "execution": {
     "iopub.execute_input": "2024-10-22T11:46:59.239762Z",
     "iopub.status.busy": "2024-10-22T11:46:59.239455Z",
     "iopub.status.idle": "2024-10-22T11:46:59.249853Z",
     "shell.execute_reply": "2024-10-22T11:46:59.248832Z"
    },
    "papermill": {
     "duration": 0.031598,
     "end_time": "2024-10-22T11:46:59.252045",
     "exception": false,
     "start_time": "2024-10-22T11:46:59.220447",
     "status": "completed"
    },
    "tags": []
   },
   "outputs": [
    {
     "data": {
      "text/plain": [
       "country\n",
       "United States     2818\n",
       "India              972\n",
       "Unavalable         831\n",
       "United Kingdom     419\n",
       "Japan              245\n",
       "South Korea        199\n",
       "Canada             181\n",
       "Spain              145\n",
       "France             124\n",
       "Mexico             110\n",
       "Name: count, dtype: int64"
      ]
     },
     "execution_count": 24,
     "metadata": {},
     "output_type": "execute_result"
    }
   ],
   "source": [
    "df['country'].value_counts().head(10)"
   ]
  },
  {
   "cell_type": "markdown",
   "id": "41908891",
   "metadata": {
    "papermill": {
     "duration": 0.017512,
     "end_time": "2024-10-22T11:46:59.287252",
     "exception": false,
     "start_time": "2024-10-22T11:46:59.269740",
     "status": "completed"
    },
    "tags": []
   },
   "source": [
    "# Country Wise Content on Netflix"
   ]
  },
  {
   "cell_type": "code",
   "execution_count": 25,
   "id": "883c50f9",
   "metadata": {
    "execution": {
     "iopub.execute_input": "2024-10-22T11:46:59.324965Z",
     "iopub.status.busy": "2024-10-22T11:46:59.324538Z",
     "iopub.status.idle": "2024-10-22T11:46:59.579304Z",
     "shell.execute_reply": "2024-10-22T11:46:59.578249Z"
    },
    "papermill": {
     "duration": 0.276428,
     "end_time": "2024-10-22T11:46:59.581646",
     "exception": false,
     "start_time": "2024-10-22T11:46:59.305218",
     "status": "completed"
    },
    "tags": []
   },
   "outputs": [
    {
     "data": {
      "image/png": "[encoded data removed]",
      "text/plain": [
       "<Figure size 1000x500 with 1 Axes>"
      ]
     },
     "metadata": {},
     "output_type": "display_data"
    }
   ],
   "source": [
    "plt.figure(figsize = (10, 5))\n",
    "sns.countplot(y = 'country', order = df['country'].value_counts().index[0:10], data = df)\n",
    "plt.title('Country Wise Content on Netflix')\n",
    "plt.show()"
   ]
  },
  {
   "cell_type": "markdown",
   "id": "b10758ef",
   "metadata": {
    "papermill": {
     "duration": 0.020051,
     "end_time": "2024-10-22T11:46:59.622053",
     "exception": false,
     "start_time": "2024-10-22T11:46:59.602002",
     "status": "completed"
    },
    "tags": []
   },
   "source": [
    "# Year Wise Content On Netflix"
   ]
  },
  {
   "cell_type": "code",
   "execution_count": 26,
   "id": "fcb2026b",
   "metadata": {
    "execution": {
     "iopub.execute_input": "2024-10-22T11:46:59.663143Z",
     "iopub.status.busy": "2024-10-22T11:46:59.662745Z",
     "iopub.status.idle": "2024-10-22T11:46:59.907607Z",
     "shell.execute_reply": "2024-10-22T11:46:59.906585Z"
    },
    "papermill": {
     "duration": 0.267895,
     "end_time": "2024-10-22T11:46:59.910023",
     "exception": false,
     "start_time": "2024-10-22T11:46:59.642128",
     "status": "completed"
    },
    "tags": []
   },
   "outputs": [
    {
     "data": {
      "image/png": "[encoded data removed]",
      "text/plain": [
       "<Figure size 1000x500 with 1 Axes>"
      ]
     },
     "metadata": {},
     "output_type": "display_data"
    }
   ],
   "source": [
    "plt.figure(figsize = (10, 5))\n",
    "sns.countplot(y = 'release_year', order = df['release_year'].value_counts().index[0:10], data = df)\n",
    "plt.title('Year Wise Content on Netflix')\n",
    "plt.show()"
   ]
  },
  {
   "cell_type": "code",
   "execution_count": 27,
   "id": "a837bb3d",
   "metadata": {
    "execution": {
     "iopub.execute_input": "2024-10-22T11:46:59.952709Z",
     "iopub.status.busy": "2024-10-22T11:46:59.951778Z",
     "iopub.status.idle": "2024-10-22T11:46:59.963727Z",
     "shell.execute_reply": "2024-10-22T11:46:59.962842Z"
    },
    "papermill": {
     "duration": 0.035968,
     "end_time": "2024-10-22T11:46:59.966123",
     "exception": false,
     "start_time": "2024-10-22T11:46:59.930155",
     "status": "completed"
    },
    "tags": []
   },
   "outputs": [],
   "source": [
    "movie_countries = df[df['type'] == 'Movie']\n",
    "tv_show_countris = df[df['type'] == 'TV Show']"
   ]
  },
  {
   "cell_type": "markdown",
   "id": "a540f9e1",
   "metadata": {
    "papermill": {
     "duration": 0.019235,
     "end_time": "2024-10-22T11:47:00.005613",
     "exception": false,
     "start_time": "2024-10-22T11:46:59.986378",
     "status": "completed"
    },
    "tags": []
   },
   "source": [
    "# Top 10 Countries Producing Movies On Netflix"
   ]
  },
  {
   "cell_type": "code",
   "execution_count": 28,
   "id": "e7644a0d",
   "metadata": {
    "execution": {
     "iopub.execute_input": "2024-10-22T11:47:00.047157Z",
     "iopub.status.busy": "2024-10-22T11:47:00.046227Z",
     "iopub.status.idle": "2024-10-22T11:47:00.312858Z",
     "shell.execute_reply": "2024-10-22T11:47:00.311689Z"
    },
    "papermill": {
     "duration": 0.290487,
     "end_time": "2024-10-22T11:47:00.315166",
     "exception": false,
     "start_time": "2024-10-22T11:47:00.024679",
     "status": "completed"
    },
    "tags": []
   },
   "outputs": [
    {
     "data": {
      "image/png": "[encoded data removed]",
      "text/plain": [
       "<Figure size 1000x500 with 1 Axes>"
      ]
     },
     "metadata": {},
     "output_type": "display_data"
    }
   ],
   "source": [
    "plt.figure(figsize = (10, 5))\n",
    "sns.countplot(y = 'country', order = df['country'].value_counts().index[0:10], data = movie_countries)\n",
    "plt.title('Top 10 Countries Producing Movies on Netflix')\n",
    "plt.show()"
   ]
  },
  {
   "cell_type": "markdown",
   "id": "72ab2523",
   "metadata": {
    "papermill": {
     "duration": 0.018924,
     "end_time": "2024-10-22T11:47:00.354068",
     "exception": false,
     "start_time": "2024-10-22T11:47:00.335144",
     "status": "completed"
    },
    "tags": []
   },
   "source": [
    "# Top 10 Countries Producing TV Shows On Netflix"
   ]
  },
  {
   "cell_type": "code",
   "execution_count": 29,
   "id": "fc083991",
   "metadata": {
    "execution": {
     "iopub.execute_input": "2024-10-22T11:47:00.394948Z",
     "iopub.status.busy": "2024-10-22T11:47:00.394152Z",
     "iopub.status.idle": "2024-10-22T11:47:00.702338Z",
     "shell.execute_reply": "2024-10-22T11:47:00.701268Z"
    },
    "papermill": {
     "duration": 0.331019,
     "end_time": "2024-10-22T11:47:00.704579",
     "exception": false,
     "start_time": "2024-10-22T11:47:00.373560",
     "status": "completed"
    },
    "tags": []
   },
   "outputs": [
    {
     "data": {
      "image/png": "[encoded data removed]",
      "text/plain": [
       "<Figure size 1000x500 with 1 Axes>"
      ]
     },
     "metadata": {},
     "output_type": "display_data"
    }
   ],
   "source": [
    "plt.figure(figsize = (10, 5))\n",
    "sns.countplot(y = 'country', order = df['country'].value_counts().index[0:10], data = tv_show_countris)\n",
    "plt.title('Top 10 Countries Producing TV Shows on Netflix')\n",
    "plt.show()"
   ]
  },
  {
   "cell_type": "code",
   "execution_count": 30,
   "id": "6354550f",
   "metadata": {
    "execution": {
     "iopub.execute_input": "2024-10-22T11:47:00.748143Z",
     "iopub.status.busy": "2024-10-22T11:47:00.747734Z",
     "iopub.status.idle": "2024-10-22T11:47:00.757593Z",
     "shell.execute_reply": "2024-10-22T11:47:00.756674Z"
    },
    "papermill": {
     "duration": 0.033528,
     "end_time": "2024-10-22T11:47:00.759742",
     "exception": false,
     "start_time": "2024-10-22T11:47:00.726214",
     "status": "completed"
    },
    "tags": []
   },
   "outputs": [
    {
     "data": {
      "text/plain": [
       "rating\n",
       "TV-MA    3207\n",
       "TV-14    2160\n",
       "TV-PG     863\n",
       "R         799\n",
       "PG-13     490\n",
       "TV-Y7     334\n",
       "TV-Y      307\n",
       "PG        287\n",
       "TV-G      220\n",
       "NR         80\n",
       "Name: count, dtype: int64"
      ]
     },
     "execution_count": 30,
     "metadata": {},
     "output_type": "execute_result"
    }
   ],
   "source": [
    "df.rating.value_counts().head(10)"
   ]
  },
  {
   "cell_type": "markdown",
   "id": "0f9ea818",
   "metadata": {
    "papermill": {
     "duration": 0.019326,
     "end_time": "2024-10-22T11:47:00.799196",
     "exception": false,
     "start_time": "2024-10-22T11:47:00.779870",
     "status": "completed"
    },
    "tags": []
   },
   "source": [
    "# Rating Of Show On Netflix VS Counts"
   ]
  },
  {
   "cell_type": "code",
   "execution_count": 31,
   "id": "b03b915a",
   "metadata": {
    "execution": {
     "iopub.execute_input": "2024-10-22T11:47:00.841436Z",
     "iopub.status.busy": "2024-10-22T11:47:00.840819Z",
     "iopub.status.idle": "2024-10-22T11:47:01.139039Z",
     "shell.execute_reply": "2024-10-22T11:47:01.138145Z"
    },
    "papermill": {
     "duration": 0.322235,
     "end_time": "2024-10-22T11:47:01.141642",
     "exception": false,
     "start_time": "2024-10-22T11:47:00.819407",
     "status": "completed"
    },
    "tags": []
   },
   "outputs": [
    {
     "data": {
      "image/png": "[encoded data removed]",
      "text/plain": [
       "<Figure size 800x600 with 1 Axes>"
      ]
     },
     "metadata": {},
     "output_type": "display_data"
    }
   ],
   "source": [
    "plt.figure(figsize = (8, 6))\n",
    "sns.countplot(x = 'rating', order = df['rating'].value_counts().index[0:10], data = df)\n",
    "plt.title('Rating Of Show On Netflix VS Counts')\n",
    "plt.show()"
   ]
  },
  {
   "cell_type": "markdown",
   "id": "f3c38aba",
   "metadata": {
    "papermill": {
     "duration": 0.021028,
     "end_time": "2024-10-22T11:47:01.183750",
     "exception": false,
     "start_time": "2024-10-22T11:47:01.162722",
     "status": "completed"
    },
    "tags": []
   },
   "source": [
    "In **Above** output you can see that **TV-MA and TV-14** both Show have the most ratings"
   ]
  },
  {
   "cell_type": "code",
   "execution_count": 32,
   "id": "742e98d0",
   "metadata": {
    "execution": {
     "iopub.execute_input": "2024-10-22T11:47:01.228824Z",
     "iopub.status.busy": "2024-10-22T11:47:01.228130Z",
     "iopub.status.idle": "2024-10-22T11:47:01.236467Z",
     "shell.execute_reply": "2024-10-22T11:47:01.235487Z"
    },
    "papermill": {
     "duration": 0.033886,
     "end_time": "2024-10-22T11:47:01.238928",
     "exception": false,
     "start_time": "2024-10-22T11:47:01.205042",
     "status": "completed"
    },
    "tags": []
   },
   "outputs": [
    {
     "data": {
      "text/plain": [
       "release_year\n",
       "2018    1147\n",
       "2017    1032\n",
       "2019    1030\n",
       "2020     953\n",
       "2016     902\n",
       "2021     592\n",
       "2015     560\n",
       "2014     352\n",
       "2013     288\n",
       "2012     237\n",
       "2010     194\n",
       "2011     185\n",
       "2009     152\n",
       "2008     136\n",
       "2006      96\n",
       "2007      88\n",
       "2005      80\n",
       "2004      64\n",
       "2003      61\n",
       "2002      51\n",
       "Name: count, dtype: int64"
      ]
     },
     "execution_count": 32,
     "metadata": {},
     "output_type": "execute_result"
    }
   ],
   "source": [
    "df.release_year.value_counts()[:20]"
   ]
  },
  {
   "cell_type": "markdown",
   "id": "f562c9a8",
   "metadata": {
    "papermill": {
     "duration": 0.020413,
     "end_time": "2024-10-22T11:47:01.279970",
     "exception": false,
     "start_time": "2024-10-22T11:47:01.259557",
     "status": "completed"
    },
    "tags": []
   },
   "source": [
    "In the **Above Output** you can see that in year **2018 | 1147 Movies and TV Shows** are produced on Netflix and so on."
   ]
  },
  {
   "cell_type": "markdown",
   "id": "86e31975",
   "metadata": {
    "papermill": {
     "duration": 0.020331,
     "end_time": "2024-10-22T11:47:01.321082",
     "exception": false,
     "start_time": "2024-10-22T11:47:01.300751",
     "status": "completed"
    },
    "tags": []
   },
   "source": [
    "# Content Release in Years On Netflix VS Count"
   ]
  },
  {
   "cell_type": "code",
   "execution_count": 33,
   "id": "82574e90",
   "metadata": {
    "execution": {
     "iopub.execute_input": "2024-10-22T11:47:01.366218Z",
     "iopub.status.busy": "2024-10-22T11:47:01.365834Z",
     "iopub.status.idle": "2024-10-22T11:47:01.756318Z",
     "shell.execute_reply": "2024-10-22T11:47:01.755148Z"
    },
    "papermill": {
     "duration": 0.415827,
     "end_time": "2024-10-22T11:47:01.758680",
     "exception": false,
     "start_time": "2024-10-22T11:47:01.342853",
     "status": "completed"
    },
    "tags": []
   },
   "outputs": [
    {
     "data": {
      "image/png": "[encoded data removed]",
      "text/plain": [
       "<Figure size 800x600 with 1 Axes>"
      ]
     },
     "metadata": {},
     "output_type": "display_data"
    }
   ],
   "source": [
    "plt.figure(figsize = (8, 6))\n",
    "sns.countplot(y = 'release_year', order = df['release_year'].value_counts().index[0:20], data = df)\n",
    "plt.title('Content Release in Years On Netflix VS Count')\n",
    "plt.show()"
   ]
  },
  {
   "cell_type": "markdown",
   "id": "60b7fa53",
   "metadata": {
    "papermill": {
     "duration": 0.020793,
     "end_time": "2024-10-22T11:47:01.801559",
     "exception": false,
     "start_time": "2024-10-22T11:47:01.780766",
     "status": "completed"
    },
    "tags": []
   },
   "source": [
    "# Popular Genres Analysis"
   ]
  },
  {
   "cell_type": "code",
   "execution_count": 34,
   "id": "302f8129",
   "metadata": {
    "execution": {
     "iopub.execute_input": "2024-10-22T11:47:01.847072Z",
     "iopub.status.busy": "2024-10-22T11:47:01.846293Z",
     "iopub.status.idle": "2024-10-22T11:47:02.314624Z",
     "shell.execute_reply": "2024-10-22T11:47:02.313644Z"
    },
    "papermill": {
     "duration": 0.4941,
     "end_time": "2024-10-22T11:47:02.317126",
     "exception": false,
     "start_time": "2024-10-22T11:47:01.823026",
     "status": "completed"
    },
    "tags": []
   },
   "outputs": [
    {
     "data": {
      "image/png": "[encoded data removed]",
      "text/plain": [
       "<Figure size 800x600 with 1 Axes>"
      ]
     },
     "metadata": {},
     "output_type": "display_data"
    }
   ],
   "source": [
    "plt.figure(figsize = (8, 6))\n",
    "sns.countplot(y = 'listed_in', order = df['listed_in'].value_counts().index[0:20], data = df)\n",
    "plt.title('Top 20 Genres On Netflix')\n",
    "plt.show()"
   ]
  },
  {
   "cell_type": "markdown",
   "id": "5740b8e9",
   "metadata": {
    "papermill": {
     "duration": 0.025798,
     "end_time": "2024-10-22T11:47:02.366121",
     "exception": false,
     "start_time": "2024-10-22T11:47:02.340323",
     "status": "completed"
    },
    "tags": []
   },
   "source": [
    "# Summary\n",
    "\n",
    "* Netflix has more Movies Than TV Shows.\n",
    "* Most Movies and TV Shows are produced in the US, followed by India which has made the 2nd most number of Movies on Netflix.\n",
    "* Most of the Content on Netflix (Movies and TV Shows combined) for Mature.\n",
    "* 2018 is the year in which Netflix released a lot more content as compared to other years\n",
    "* International Movies And Dramas are The Most Genres on Netflix"
   ]
  }
 ],
 "metadata": {
  "kaggle": {
   "accelerator": "none",
   "dataSources": [
    {
     "datasetId": 2807452,
     "sourceId": 5539097,
     "sourceType": "datasetVersion"
    }
   ],
   "dockerImageVersionId": 30746,
   "isGpuEnabled": false,
   "isInternetEnabled": false,
   "language": "python",
   "sourceType": "notebook"
  },
  "kernelspec": {
   "display_name": "Python 3",
   "language": "python",
   "name": "python3"
  },
  "language_info": {
   "codemirror_mode": {
    "name": "ipython",
    "version": 3
   },
   "file_extension": ".py",
   "mimetype": "text/x-python",
   "name": "python",
   "nbconvert_exporter": "python",
   "pygments_lexer": "ipython3",
   "version": "3.10.13"
  },
  "papermill": {
   "default_parameters": {},
   "duration": 11.157653,
   "end_time": "2024-10-22T11:47:02.910378",
   "environment_variables": {},
   "exception": null,
   "input_path": "__notebook__.ipynb",
   "output_path": "__notebook__.ipynb",
   "parameters": {},
   "start_time": "2024-10-22T11:46:51.752725",
   "version": "2.5.0"
  }
 },
 "nbformat": 4,
 "nbformat_minor": 5
}
